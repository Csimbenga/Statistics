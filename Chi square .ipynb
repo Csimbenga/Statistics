{
 "cells": [
  {
   "cell_type": "markdown",
   "id": "39a60da2",
   "metadata": {},
   "source": [
    "# Single Sample t-Test"
   ]
  },
  {
   "cell_type": "markdown",
   "id": "b2716127",
   "metadata": {},
   "source": [
    "## Import Packages"
   ]
  },
  {
   "cell_type": "code",
   "execution_count": 1,
   "id": "f7c43310",
   "metadata": {},
   "outputs": [],
   "source": [
    "import pandas as pd\n",
    "import numpy as np\n",
    "from scipy.stats import norm\n",
    "from scipy import stats"
   ]
  },
  {
   "cell_type": "markdown",
   "id": "c7b42568",
   "metadata": {},
   "source": [
    "## Import Data"
   ]
  },
  {
   "cell_type": "markdown",
   "id": "21f7bc86",
   "metadata": {},
   "source": [
    "You will be testing whether a cost of $25,000 for a hybrid vehicle in 2013 is different than the mean cost, using this data"
   ]
  },
  {
   "cell_type": "code",
   "execution_count": 3,
   "id": "6d41c3fb",
   "metadata": {},
   "outputs": [],
   "source": [
    "hybrid2013 = pd.read_excel('/Users/christinasimbenga/Desktop/hybrid2013.xlsx')"
   ]
  },
  {
   "cell_type": "code",
   "execution_count": 4,
   "id": "6c17a441",
   "metadata": {},
   "outputs": [
    {
     "data": {
      "text/html": [
       "<div>\n",
       "<style scoped>\n",
       "    .dataframe tbody tr th:only-of-type {\n",
       "        vertical-align: middle;\n",
       "    }\n",
       "\n",
       "    .dataframe tbody tr th {\n",
       "        vertical-align: top;\n",
       "    }\n",
       "\n",
       "    .dataframe thead th {\n",
       "        text-align: right;\n",
       "    }\n",
       "</style>\n",
       "<table border=\"1\" class=\"dataframe\">\n",
       "  <thead>\n",
       "    <tr style=\"text-align: right;\">\n",
       "      <th></th>\n",
       "      <th>carid</th>\n",
       "      <th>vehicle</th>\n",
       "      <th>year</th>\n",
       "      <th>msrp</th>\n",
       "      <th>accelrate</th>\n",
       "      <th>mpg</th>\n",
       "      <th>mpgmpge</th>\n",
       "      <th>carclass</th>\n",
       "      <th>carclass_id</th>\n",
       "    </tr>\n",
       "  </thead>\n",
       "  <tbody>\n",
       "    <tr>\n",
       "      <th>0</th>\n",
       "      <td>111</td>\n",
       "      <td>Prius C</td>\n",
       "      <td>2013</td>\n",
       "      <td>19080</td>\n",
       "      <td>8.70</td>\n",
       "      <td>50</td>\n",
       "      <td>50</td>\n",
       "      <td>C</td>\n",
       "      <td>1</td>\n",
       "    </tr>\n",
       "    <tr>\n",
       "      <th>1</th>\n",
       "      <td>112</td>\n",
       "      <td>Jetta</td>\n",
       "      <td>2013</td>\n",
       "      <td>24995</td>\n",
       "      <td>12.66</td>\n",
       "      <td>45</td>\n",
       "      <td>45</td>\n",
       "      <td>C</td>\n",
       "      <td>1</td>\n",
       "    </tr>\n",
       "    <tr>\n",
       "      <th>2</th>\n",
       "      <td>113</td>\n",
       "      <td>Civic</td>\n",
       "      <td>2013</td>\n",
       "      <td>24360</td>\n",
       "      <td>10.20</td>\n",
       "      <td>44</td>\n",
       "      <td>44</td>\n",
       "      <td>C</td>\n",
       "      <td>1</td>\n",
       "    </tr>\n",
       "    <tr>\n",
       "      <th>3</th>\n",
       "      <td>114</td>\n",
       "      <td>Prius</td>\n",
       "      <td>2013</td>\n",
       "      <td>24200</td>\n",
       "      <td>10.20</td>\n",
       "      <td>50</td>\n",
       "      <td>50</td>\n",
       "      <td>M</td>\n",
       "      <td>3</td>\n",
       "    </tr>\n",
       "    <tr>\n",
       "      <th>4</th>\n",
       "      <td>115</td>\n",
       "      <td>Fusion FWD</td>\n",
       "      <td>2013</td>\n",
       "      <td>27200</td>\n",
       "      <td>11.72</td>\n",
       "      <td>47</td>\n",
       "      <td>47</td>\n",
       "      <td>M</td>\n",
       "      <td>3</td>\n",
       "    </tr>\n",
       "  </tbody>\n",
       "</table>\n",
       "</div>"
      ],
      "text/plain": [
       "   carid     vehicle  year   msrp  accelrate  mpg  mpgmpge carclass  \\\n",
       "0    111     Prius C  2013  19080       8.70   50       50        C   \n",
       "1    112       Jetta  2013  24995      12.66   45       45        C   \n",
       "2    113       Civic  2013  24360      10.20   44       44        C   \n",
       "3    114       Prius  2013  24200      10.20   50       50        M   \n",
       "4    115  Fusion FWD  2013  27200      11.72   47       47        M   \n",
       "\n",
       "   carclass_id  \n",
       "0            1  \n",
       "1            1  \n",
       "2            1  \n",
       "3            3  \n",
       "4            3  "
      ]
     },
     "execution_count": 4,
     "metadata": {},
     "output_type": "execute_result"
    }
   ],
   "source": [
    "hybrid2013.head()"
   ]
  },
  {
   "cell_type": "markdown",
   "id": "4a39744d",
   "metadata": {},
   "source": [
    "## Test Assumptions"
   ]
  },
  {
   "cell_type": "code",
   "execution_count": 5,
   "id": "2261d877",
   "metadata": {},
   "outputs": [
    {
     "data": {
      "text/plain": [
       "<AxesSubplot:>"
      ]
     },
     "execution_count": 5,
     "metadata": {},
     "output_type": "execute_result"
    },
    {
     "data": {
      "image/png": "[encoded data removed]",
      "text/plain": [
       "<Figure size 432x288 with 1 Axes>"
      ]
     },
     "metadata": {
      "needs_background": "light"
     },
     "output_type": "display_data"
    }
   ],
   "source": [
    "hybrid2013['msrp'].hist()"
   ]
  },
  {
   "cell_type": "markdown",
   "id": "c8470d4d",
   "metadata": {},
   "source": [
    "## Run the Analysis"
   ]
  },
  {
   "cell_type": "code",
   "execution_count": 6,
   "id": "531df354",
   "metadata": {},
   "outputs": [
    {
     "data": {
      "text/plain": [
       "Ttest_1sampResult(statistic=6.003733172775179, pvalue=3.9231807518835515e-07)"
      ]
     },
     "execution_count": 6,
     "metadata": {},
     "output_type": "execute_result"
    }
   ],
   "source": [
    "stats.ttest_1samp(hybrid2013['msrp'], 25000)"
   ]
  },
  {
   "cell_type": "code",
   "execution_count": 7,
   "id": "2c8f5fe7",
   "metadata": {},
   "outputs": [
    {
     "data": {
      "text/plain": [
       "42943.48837209302"
      ]
     },
     "execution_count": 7,
     "metadata": {},
     "output_type": "execute_result"
    }
   ],
   "source": [
    "hybrid2013.msrp.mean()"
   ]
  },
  {
   "cell_type": "markdown",
   "id": "f4414b83",
   "metadata": {},
   "source": [
    "# Single Sample t-Test Activity"
   ]
  },
  {
   "cell_type": "markdown",
   "id": "d057f801",
   "metadata": {},
   "source": [
    "Using the hybrid2013 dataset you worked with in the lesson, determine whether a miles per gallon (mpg) rating of 40 is unusual for a hybrid car on the market in 2013. To do this, you will need to test for the assumption of normality by creating a histogram, and then run a single sample ttest."
   ]
  },
  {
   "cell_type": "markdown",
   "id": "1c9c563e",
   "metadata": {},
   "source": [
    "## Test Assumptions"
   ]
  },
  {
   "cell_type": "code",
   "execution_count": 8,
   "id": "2b77f91c",
   "metadata": {},
   "outputs": [
    {
     "data": {
      "text/plain": [
       "<AxesSubplot:>"
      ]
     },
     "execution_count": 8,
     "metadata": {},
     "output_type": "execute_result"
    },
    {
     "data": {
      "image/png": "[encoded data removed]",
      "text/plain": [
       "<Figure size 432x288 with 1 Axes>"
      ]
     },
     "metadata": {
      "needs_background": "light"
     },
     "output_type": "display_data"
    }
   ],
   "source": [
    "hybrid2013['mpg'].hist()"
   ]
  },
  {
   "cell_type": "markdown",
   "id": "30ac38c3",
   "metadata": {},
   "source": [
    "## Run the Analysis"
   ]
  },
  {
   "cell_type": "code",
   "execution_count": 9,
   "id": "52f509ac",
   "metadata": {},
   "outputs": [
    {
     "data": {
      "text/plain": [
       "Ttest_1sampResult(statistic=-4.427320491687408, pvalue=6.67005084670698e-05)"
      ]
     },
     "execution_count": 9,
     "metadata": {},
     "output_type": "execute_result"
    }
   ],
   "source": [
    "stats.ttest_1samp(hybrid2013['mpg'], 40)"
   ]
  },
  {
   "cell_type": "code",
   "execution_count": 10,
   "id": "957327c4",
   "metadata": {},
   "outputs": [
    {
     "data": {
      "text/plain": [
       "33.48837209302326"
      ]
     },
     "execution_count": 10,
     "metadata": {},
     "output_type": "execute_result"
    }
   ],
   "source": [
    "hybrid2013.mpg.mean()"
   ]
  },
  {
   "cell_type": "markdown",
   "id": "c5b09d09",
   "metadata": {},
   "source": [
    "Mpg of 40 seems just a bit high I don't think its too unusal as the mean is 33."
   ]
  },
  {
   "cell_type": "markdown",
   "id": "48f39db0",
   "metadata": {},
   "source": [
    "# Independent t-Test*******************"
   ]
  },
  {
   "cell_type": "markdown",
   "id": "7f4515ee",
   "metadata": {},
   "source": [
    "## Import packages "
   ]
  },
  {
   "cell_type": "code",
   "execution_count": 11,
   "id": "2f74b1bb",
   "metadata": {},
   "outputs": [],
   "source": [
    "import pandas as pd\n",
    "import numpy as np\n",
    "from scipy import stats\n",
    "from scipy.stats import ttest_ind"
   ]
  },
  {
   "cell_type": "markdown",
   "id": "53d37bca",
   "metadata": {},
   "source": [
    "## Same data "
   ]
  },
  {
   "cell_type": "markdown",
   "id": "f1830807",
   "metadata": {},
   "source": [
    "You will continue to use the hybrid cars dataset from before. However, this time, you are testing to see whether compact and mid-size hybrid cars differ in their average miles per gallon."
   ]
  },
  {
   "cell_type": "markdown",
   "id": "0940482f",
   "metadata": {},
   "source": [
    "## Test Assumptions"
   ]
  },
  {
   "cell_type": "code",
   "execution_count": 12,
   "id": "8bf7f249",
   "metadata": {},
   "outputs": [
    {
     "data": {
      "text/plain": [
       "<AxesSubplot:>"
      ]
     },
     "execution_count": 12,
     "metadata": {},
     "output_type": "execute_result"
    },
    {
     "data": {
      "image/png": "[encoded data removed]",
      "text/plain": [
       "<Figure size 432x288 with 1 Axes>"
      ]
     },
     "metadata": {
      "needs_background": "light"
     },
     "output_type": "display_data"
    }
   ],
   "source": [
    "hybrid2013.mpg[hybrid2013.carclass == 'C'].hist()"
   ]
  },
  {
   "cell_type": "code",
   "execution_count": 13,
   "id": "167148c3",
   "metadata": {},
   "outputs": [
    {
     "data": {
      "text/plain": [
       "<AxesSubplot:>"
      ]
     },
     "execution_count": 13,
     "metadata": {},
     "output_type": "execute_result"
    },
    {
     "data": {
      "image/png": "[encoded data removed]",
      "text/plain": [
       "<Figure size 432x288 with 1 Axes>"
      ]
     },
     "metadata": {
      "needs_background": "light"
     },
     "output_type": "display_data"
    }
   ],
   "source": [
    "hybrid2013.mpg[hybrid2013.carclass == 'M'].hist()"
   ]
  },
  {
   "cell_type": "markdown",
   "id": "216f5032",
   "metadata": {},
   "source": [
    "# Run the Analysis"
   ]
  },
  {
   "cell_type": "code",
   "execution_count": 14,
   "id": "5330ea8d",
   "metadata": {},
   "outputs": [
    {
     "data": {
      "text/plain": [
       "Ttest_indResult(statistic=1.0751886097093057, pvalue=0.29216712457079796)"
      ]
     },
     "execution_count": 14,
     "metadata": {},
     "output_type": "execute_result"
    }
   ],
   "source": [
    "ttest_ind(hybrid2013.mpg[hybrid2013.carclass == 'C'], hybrid2013.mpg[hybrid2013.carclass == 'M'])"
   ]
  },
  {
   "cell_type": "markdown",
   "id": "4f4a3dfc",
   "metadata": {},
   "source": [
    "# Independent t-Test Activity"
   ]
  },
  {
   "cell_type": "markdown",
   "id": "1ec612cb",
   "metadata": {},
   "source": [
    "Using the hybrid2013 dataset you worked with in the lesson, determine if the mean miles per gallon for a compact and a large car differ from each other. To do this, you will need to test for the assumption of normality for both groups by creating a histogram, and then run an independent ttest."
   ]
  },
  {
   "cell_type": "markdown",
   "id": "6025e730",
   "metadata": {},
   "source": [
    "## Test Assumptions"
   ]
  },
  {
   "cell_type": "code",
   "execution_count": 15,
   "id": "97cde4ce",
   "metadata": {},
   "outputs": [
    {
     "data": {
      "text/plain": [
       "<AxesSubplot:>"
      ]
     },
     "execution_count": 15,
     "metadata": {},
     "output_type": "execute_result"
    },
    {
     "data": {
      "image/png": "[encoded data removed]",
      "text/plain": [
       "<Figure size 432x288 with 1 Axes>"
      ]
     },
     "metadata": {
      "needs_background": "light"
     },
     "output_type": "display_data"
    }
   ],
   "source": [
    "hybrid2013.mpg[hybrid2013.carclass == 'C'].hist()"
   ]
  },
  {
   "cell_type": "code",
   "execution_count": 16,
   "id": "065b6336",
   "metadata": {},
   "outputs": [
    {
     "data": {
      "text/plain": [
       "<AxesSubplot:>"
      ]
     },
     "execution_count": 16,
     "metadata": {},
     "output_type": "execute_result"
    },
    {
     "data": {
      "image/png": "[encoded data removed]",
      "text/plain": [
       "<Figure size 432x288 with 1 Axes>"
      ]
     },
     "metadata": {
      "needs_background": "light"
     },
     "output_type": "display_data"
    }
   ],
   "source": [
    "hybrid2013.mpg[hybrid2013.carclass == 'L'].hist()"
   ]
  },
  {
   "cell_type": "markdown",
   "id": "65be908c",
   "metadata": {},
   "source": [
    "## Run the Analysis"
   ]
  },
  {
   "cell_type": "code",
   "execution_count": 17,
   "id": "3d5eeee7",
   "metadata": {},
   "outputs": [
    {
     "data": {
      "text/plain": [
       "Ttest_indResult(statistic=2.598820461640718, pvalue=0.026545168887970098)"
      ]
     },
     "execution_count": 17,
     "metadata": {},
     "output_type": "execute_result"
    }
   ],
   "source": [
    "ttest_ind(hybrid2013.mpg[hybrid2013.carclass == 'C'], hybrid2013.mpg[hybrid2013.carclass == 'L'])"
   ]
  },
  {
   "cell_type": "markdown",
   "id": "84e46862",
   "metadata": {},
   "source": [
    "There is a difference between the compact car and the larger car "
   ]
  },
  {
   "cell_type": "code",
   "execution_count": 18,
   "id": "2806547c",
   "metadata": {},
   "outputs": [
    {
     "data": {
      "text/plain": [
       "28.5"
      ]
     },
     "execution_count": 18,
     "metadata": {},
     "output_type": "execute_result"
    }
   ],
   "source": [
    "hybrid2013.mpg[hybrid2013.carclass == 'L'].mean()"
   ]
  },
  {
   "cell_type": "code",
   "execution_count": 19,
   "id": "18f66528",
   "metadata": {},
   "outputs": [
    {
     "data": {
      "text/plain": [
       "40.75"
      ]
     },
     "execution_count": 19,
     "metadata": {},
     "output_type": "execute_result"
    }
   ],
   "source": [
    "hybrid2013.mpg[hybrid2013.carclass == 'C'].mean()"
   ]
  },
  {
   "cell_type": "markdown",
   "id": "c8664297",
   "metadata": {},
   "source": [
    "Looks like you would get more with compact than large cars when it comes to miles per gallon"
   ]
  },
  {
   "cell_type": "markdown",
   "id": "2b20f9f2",
   "metadata": {},
   "source": [
    "# Dependent t-Test ******"
   ]
  },
  {
   "cell_type": "markdown",
   "id": "d0c85375",
   "metadata": {},
   "source": [
    "## import packages "
   ]
  },
  {
   "cell_type": "code",
   "execution_count": 20,
   "id": "daadd270",
   "metadata": {},
   "outputs": [],
   "source": [
    "import pandas as pd\n",
    "from scipy import stats"
   ]
  },
  {
   "cell_type": "markdown",
   "id": "c9b094ca",
   "metadata": {},
   "source": [
    "## import data "
   ]
  },
  {
   "cell_type": "code",
   "execution_count": 21,
   "id": "0bb4af51",
   "metadata": {},
   "outputs": [],
   "source": [
    "hybrid2012 = pd.read_excel('/Users/christinasimbenga/Desktop/hybrid2012-13.xlsx')"
   ]
  },
  {
   "cell_type": "code",
   "execution_count": 22,
   "id": "a56e2b72",
   "metadata": {},
   "outputs": [
    {
     "data": {
      "text/html": [
       "<div>\n",
       "<style scoped>\n",
       "    .dataframe tbody tr th:only-of-type {\n",
       "        vertical-align: middle;\n",
       "    }\n",
       "\n",
       "    .dataframe tbody tr th {\n",
       "        vertical-align: top;\n",
       "    }\n",
       "\n",
       "    .dataframe thead th {\n",
       "        text-align: right;\n",
       "    }\n",
       "</style>\n",
       "<table border=\"1\" class=\"dataframe\">\n",
       "  <thead>\n",
       "    <tr style=\"text-align: right;\">\n",
       "      <th></th>\n",
       "      <th>vehicle</th>\n",
       "      <th>msrp2012</th>\n",
       "      <th>accelrate2012</th>\n",
       "      <th>mpg2012</th>\n",
       "      <th>mpgmpge2012</th>\n",
       "      <th>carclass2012</th>\n",
       "      <th>carclass_id2012</th>\n",
       "      <th>msrp2013</th>\n",
       "      <th>accelrate2013</th>\n",
       "      <th>mpg2013</th>\n",
       "      <th>mpgmpge2013</th>\n",
       "      <th>carclass2013</th>\n",
       "      <th>carclass_id2013</th>\n",
       "    </tr>\n",
       "  </thead>\n",
       "  <tbody>\n",
       "    <tr>\n",
       "      <th>0</th>\n",
       "      <td>ActiveHybrid 3</td>\n",
       "      <td>19006.62</td>\n",
       "      <td>9.35</td>\n",
       "      <td>50</td>\n",
       "      <td>50</td>\n",
       "      <td>C</td>\n",
       "      <td>1</td>\n",
       "      <td>19080</td>\n",
       "      <td>8.70</td>\n",
       "      <td>50</td>\n",
       "      <td>50</td>\n",
       "      <td>C</td>\n",
       "      <td>1</td>\n",
       "    </tr>\n",
       "    <tr>\n",
       "      <th>1</th>\n",
       "      <td>ActiveHybrid 5</td>\n",
       "      <td>32095.61</td>\n",
       "      <td>8.82</td>\n",
       "      <td>50</td>\n",
       "      <td>95</td>\n",
       "      <td>M</td>\n",
       "      <td>3</td>\n",
       "      <td>24995</td>\n",
       "      <td>12.66</td>\n",
       "      <td>45</td>\n",
       "      <td>45</td>\n",
       "      <td>C</td>\n",
       "      <td>1</td>\n",
       "    </tr>\n",
       "    <tr>\n",
       "      <th>2</th>\n",
       "      <td>Ampera</td>\n",
       "      <td>31739.55</td>\n",
       "      <td>11.11</td>\n",
       "      <td>37</td>\n",
       "      <td>98</td>\n",
       "      <td>C</td>\n",
       "      <td>1</td>\n",
       "      <td>24200</td>\n",
       "      <td>10.20</td>\n",
       "      <td>50</td>\n",
       "      <td>50</td>\n",
       "      <td>M</td>\n",
       "      <td>3</td>\n",
       "    </tr>\n",
       "    <tr>\n",
       "      <th>3</th>\n",
       "      <td>Camry LE</td>\n",
       "      <td>62180.23</td>\n",
       "      <td>16.67</td>\n",
       "      <td>26</td>\n",
       "      <td>26</td>\n",
       "      <td>M</td>\n",
       "      <td>3</td>\n",
       "      <td>18600</td>\n",
       "      <td>11.76</td>\n",
       "      <td>42</td>\n",
       "      <td>42</td>\n",
       "      <td>C</td>\n",
       "      <td>1</td>\n",
       "    </tr>\n",
       "    <tr>\n",
       "      <th>4</th>\n",
       "      <td>Chevrolet Volt</td>\n",
       "      <td>59126.14</td>\n",
       "      <td>16.95</td>\n",
       "      <td>31</td>\n",
       "      <td>31</td>\n",
       "      <td>M</td>\n",
       "      <td>3</td>\n",
       "      <td>69850</td>\n",
       "      <td>16.39</td>\n",
       "      <td>21</td>\n",
       "      <td>21</td>\n",
       "      <td>SUV</td>\n",
       "      <td>6</td>\n",
       "    </tr>\n",
       "  </tbody>\n",
       "</table>\n",
       "</div>"
      ],
      "text/plain": [
       "          vehicle  msrp2012  accelrate2012  mpg2012  mpgmpge2012 carclass2012  \\\n",
       "0  ActiveHybrid 3  19006.62           9.35       50           50            C   \n",
       "1  ActiveHybrid 5  32095.61           8.82       50           95            M   \n",
       "2          Ampera  31739.55          11.11       37           98            C   \n",
       "3        Camry LE  62180.23          16.67       26           26            M   \n",
       "4  Chevrolet Volt  59126.14          16.95       31           31            M   \n",
       "\n",
       "   carclass_id2012  msrp2013  accelrate2013  mpg2013  mpgmpge2013  \\\n",
       "0                1     19080           8.70       50           50   \n",
       "1                3     24995          12.66       45           45   \n",
       "2                1     24200          10.20       50           50   \n",
       "3                3     18600          11.76       42           42   \n",
       "4                3     69850          16.39       21           21   \n",
       "\n",
       "  carclass2013  carclass_id2013  \n",
       "0            C                1  \n",
       "1            C                1  \n",
       "2            M                3  \n",
       "3            C                1  \n",
       "4          SUV                6  "
      ]
     },
     "execution_count": 22,
     "metadata": {},
     "output_type": "execute_result"
    }
   ],
   "source": [
    "hybrid2012.head()"
   ]
  },
  {
   "cell_type": "markdown",
   "id": "ef8acb51",
   "metadata": {},
   "source": [
    "You will be testing to see if the price of hybrid cars changes from 2012 to 2013."
   ]
  },
  {
   "cell_type": "markdown",
   "id": "4eb7a25d",
   "metadata": {},
   "source": [
    "## Test Assumptions"
   ]
  },
  {
   "cell_type": "code",
   "execution_count": 23,
   "id": "ce22d2d6",
   "metadata": {},
   "outputs": [
    {
     "data": {
      "text/plain": [
       "<AxesSubplot:>"
      ]
     },
     "execution_count": 23,
     "metadata": {},
     "output_type": "execute_result"
    },
    {
     "data": {
      "image/png": "[encoded data removed]",
      "text/plain": [
       "<Figure size 432x288 with 1 Axes>"
      ]
     },
     "metadata": {
      "needs_background": "light"
     },
     "output_type": "display_data"
    }
   ],
   "source": [
    "hybrid2012['msrp2012'].hist()"
   ]
  },
  {
   "cell_type": "code",
   "execution_count": 25,
   "id": "1002548b",
   "metadata": {},
   "outputs": [
    {
     "data": {
      "text/plain": [
       "<AxesSubplot:>"
      ]
     },
     "execution_count": 25,
     "metadata": {},
     "output_type": "execute_result"
    },
    {
     "data": {
      "image/png": "[encoded data removed]",
      "text/plain": [
       "<Figure size 432x288 with 1 Axes>"
      ]
     },
     "metadata": {
      "needs_background": "light"
     },
     "output_type": "display_data"
    }
   ],
   "source": [
    "hybrid2012['msrp2013'].hist()"
   ]
  },
  {
   "cell_type": "markdown",
   "id": "e7d4d718",
   "metadata": {},
   "source": [
    "## Run the Analysis"
   ]
  },
  {
   "cell_type": "code",
   "execution_count": 26,
   "id": "54853ae0",
   "metadata": {},
   "outputs": [
    {
     "data": {
      "text/plain": [
       "Ttest_relResult(statistic=0.23749650777597428, pvalue=0.8162780348473798)"
      ]
     },
     "execution_count": 26,
     "metadata": {},
     "output_type": "execute_result"
    }
   ],
   "source": [
    "stats.ttest_rel(hybrid2012['msrp2012'], hybrid2012['msrp2013'])"
   ]
  },
  {
   "cell_type": "markdown",
   "id": "60b76e65",
   "metadata": {},
   "source": [
    "This shows that there is so significant change in hybrid car price from 2012 to 2013, since the p value is not less than .05."
   ]
  },
  {
   "cell_type": "markdown",
   "id": "46585f98",
   "metadata": {},
   "source": [
    "# Dependent t-Test Activity *****"
   ]
  },
  {
   "cell_type": "markdown",
   "id": "03d1ed56",
   "metadata": {},
   "source": [
    "## Test the assumption "
   ]
  },
  {
   "cell_type": "code",
   "execution_count": 27,
   "id": "3e1030eb",
   "metadata": {},
   "outputs": [
    {
     "data": {
      "text/plain": [
       "<AxesSubplot:>"
      ]
     },
     "execution_count": 27,
     "metadata": {},
     "output_type": "execute_result"
    },
    {
     "data": {
      "image/png": "[encoded data removed]",
      "text/plain": [
       "<Figure size 432x288 with 1 Axes>"
      ]
     },
     "metadata": {
      "needs_background": "light"
     },
     "output_type": "display_data"
    }
   ],
   "source": [
    "hybrid2012['mpg2012'].hist()"
   ]
  },
  {
   "cell_type": "code",
   "execution_count": 28,
   "id": "3763bb00",
   "metadata": {},
   "outputs": [
    {
     "data": {
      "text/plain": [
       "<AxesSubplot:>"
      ]
     },
     "execution_count": 28,
     "metadata": {},
     "output_type": "execute_result"
    },
    {
     "data": {
      "image/png": "[encoded data removed]",
      "text/plain": [
       "<Figure size 432x288 with 1 Axes>"
      ]
     },
     "metadata": {
      "needs_background": "light"
     },
     "output_type": "display_data"
    }
   ],
   "source": [
    "hybrid2012['mpg2013'].hist()"
   ]
  },
  {
   "cell_type": "markdown",
   "id": "e5b1542d",
   "metadata": {},
   "source": [
    "## Run the Analysis"
   ]
  },
  {
   "cell_type": "code",
   "execution_count": 29,
   "id": "dea5643a",
   "metadata": {},
   "outputs": [
    {
     "data": {
      "text/plain": [
       "Ttest_relResult(statistic=0.14466598084438312, pvalue=0.8873759030512349)"
      ]
     },
     "execution_count": 29,
     "metadata": {},
     "output_type": "execute_result"
    }
   ],
   "source": [
    "stats.ttest_rel(hybrid2012['mpg2012'], hybrid2012['mpg2013'])"
   ]
  },
  {
   "cell_type": "markdown",
   "id": "c49f724a",
   "metadata": {},
   "source": [
    "There is no significant change from 2012 to 2013 has the p value is greater than .05 "
   ]
  },
  {
   "cell_type": "markdown",
   "id": "b6fca194",
   "metadata": {},
   "source": []
  },
  {
   "cell_type": "markdown",
   "id": "943c9501",
   "metadata": {},
   "source": []
  },
  {
   "cell_type": "markdown",
   "id": "3cfc2cf6",
   "metadata": {},
   "source": []
  },
  {
   "cell_type": "markdown",
   "id": "290a85f1",
   "metadata": {},
   "source": [
    "# Independent Chi-Square ******"
   ]
  },
  {
   "cell_type": "markdown",
   "id": "f6775aed",
   "metadata": {},
   "source": [
    "## import packages "
   ]
  },
  {
   "cell_type": "code",
   "execution_count": 30,
   "id": "023f14fa",
   "metadata": {},
   "outputs": [],
   "source": [
    "import pandas as pd\n",
    "from scipy import stats"
   ]
  },
  {
   "cell_type": "markdown",
   "id": "cfa386b9",
   "metadata": {},
   "source": [
    "## import data "
   ]
  },
  {
   "cell_type": "code",
   "execution_count": 31,
   "id": "d52b7b6a",
   "metadata": {},
   "outputs": [],
   "source": [
    "lead_lipstick = pd.read_csv('/Users/christinasimbenga/Desktop/lead_lipstick.csv')"
   ]
  },
  {
   "cell_type": "code",
   "execution_count": 32,
   "id": "f2bd1b23",
   "metadata": {},
   "outputs": [
    {
     "data": {
      "text/html": [
       "<div>\n",
       "<style scoped>\n",
       "    .dataframe tbody tr th:only-of-type {\n",
       "        vertical-align: middle;\n",
       "    }\n",
       "\n",
       "    .dataframe tbody tr th {\n",
       "        vertical-align: top;\n",
       "    }\n",
       "\n",
       "    .dataframe thead th {\n",
       "        text-align: right;\n",
       "    }\n",
       "</style>\n",
       "<table border=\"1\" class=\"dataframe\">\n",
       "  <thead>\n",
       "    <tr style=\"text-align: right;\">\n",
       "      <th></th>\n",
       "      <th>JRC_code</th>\n",
       "      <th>purchCntry</th>\n",
       "      <th>prodCntry</th>\n",
       "      <th>Pb</th>\n",
       "      <th>sdPb</th>\n",
       "      <th>shade</th>\n",
       "      <th>prodType</th>\n",
       "      <th>priceCatgry</th>\n",
       "    </tr>\n",
       "  </thead>\n",
       "  <tbody>\n",
       "    <tr>\n",
       "      <th>0</th>\n",
       "      <td>C135</td>\n",
       "      <td>NL</td>\n",
       "      <td>NL</td>\n",
       "      <td>3.75</td>\n",
       "      <td>0.24</td>\n",
       "      <td>Red</td>\n",
       "      <td>LP</td>\n",
       "      <td>2</td>\n",
       "    </tr>\n",
       "    <tr>\n",
       "      <th>1</th>\n",
       "      <td>C18</td>\n",
       "      <td>FI</td>\n",
       "      <td>FI</td>\n",
       "      <td>2.29</td>\n",
       "      <td>0.07</td>\n",
       "      <td>Red</td>\n",
       "      <td>LP</td>\n",
       "      <td>2</td>\n",
       "    </tr>\n",
       "    <tr>\n",
       "      <th>2</th>\n",
       "      <td>C20</td>\n",
       "      <td>FI</td>\n",
       "      <td>IT</td>\n",
       "      <td>1.27</td>\n",
       "      <td>0.06</td>\n",
       "      <td>Red</td>\n",
       "      <td>LP</td>\n",
       "      <td>2</td>\n",
       "    </tr>\n",
       "    <tr>\n",
       "      <th>3</th>\n",
       "      <td>C164</td>\n",
       "      <td>DE</td>\n",
       "      <td>FR</td>\n",
       "      <td>1.21</td>\n",
       "      <td>0.06</td>\n",
       "      <td>Red</td>\n",
       "      <td>LP</td>\n",
       "      <td>2</td>\n",
       "    </tr>\n",
       "    <tr>\n",
       "      <th>4</th>\n",
       "      <td>C71</td>\n",
       "      <td>MT</td>\n",
       "      <td>UK</td>\n",
       "      <td>0.85</td>\n",
       "      <td>0.04</td>\n",
       "      <td>Red</td>\n",
       "      <td>LP</td>\n",
       "      <td>2</td>\n",
       "    </tr>\n",
       "  </tbody>\n",
       "</table>\n",
       "</div>"
      ],
      "text/plain": [
       "  JRC_code purchCntry prodCntry    Pb  sdPb shade prodType  priceCatgry\n",
       "0     C135         NL        NL  3.75  0.24   Red       LP            2\n",
       "1      C18         FI        FI  2.29  0.07   Red       LP            2\n",
       "2      C20         FI        IT  1.27  0.06   Red       LP            2\n",
       "3     C164         DE        FR  1.21  0.06   Red       LP            2\n",
       "4      C71         MT        UK  0.85  0.04   Red       LP            2"
      ]
     },
     "execution_count": 32,
     "metadata": {},
     "output_type": "execute_result"
    }
   ],
   "source": [
    "lead_lipstick.head()"
   ]
  },
  {
   "cell_type": "markdown",
   "id": "30abb11d",
   "metadata": {},
   "source": [
    "#You will test to see if the price of the product depends on whether it is a lip stick or a lip gloss."
   ]
  },
  {
   "cell_type": "markdown",
   "id": "d2c0777d",
   "metadata": {},
   "source": [
    "## Test Assumptions and Run the Analysis"
   ]
  },
  {
   "cell_type": "markdown",
   "id": "2873e021",
   "metadata": {},
   "source": [
    "## Create a Contingency Table"
   ]
  },
  {
   "cell_type": "code",
   "execution_count": 34,
   "id": "670df9a8",
   "metadata": {},
   "outputs": [],
   "source": [
    "lipstick_crosstab = pd.crosstab(lead_lipstick['prodType'], lead_lipstick['priceCatgry'])"
   ]
  },
  {
   "cell_type": "code",
   "execution_count": 35,
   "id": "0b70e829",
   "metadata": {},
   "outputs": [
    {
     "data": {
      "text/html": [
       "<div>\n",
       "<style scoped>\n",
       "    .dataframe tbody tr th:only-of-type {\n",
       "        vertical-align: middle;\n",
       "    }\n",
       "\n",
       "    .dataframe tbody tr th {\n",
       "        vertical-align: top;\n",
       "    }\n",
       "\n",
       "    .dataframe thead th {\n",
       "        text-align: right;\n",
       "    }\n",
       "</style>\n",
       "<table border=\"1\" class=\"dataframe\">\n",
       "  <thead>\n",
       "    <tr style=\"text-align: right;\">\n",
       "      <th>priceCatgry</th>\n",
       "      <th>1</th>\n",
       "      <th>2</th>\n",
       "      <th>3</th>\n",
       "    </tr>\n",
       "    <tr>\n",
       "      <th>prodType</th>\n",
       "      <th></th>\n",
       "      <th></th>\n",
       "      <th></th>\n",
       "    </tr>\n",
       "  </thead>\n",
       "  <tbody>\n",
       "    <tr>\n",
       "      <th>LG</th>\n",
       "      <td>19</td>\n",
       "      <td>43</td>\n",
       "      <td>12</td>\n",
       "    </tr>\n",
       "    <tr>\n",
       "      <th>LP</th>\n",
       "      <td>34</td>\n",
       "      <td>92</td>\n",
       "      <td>23</td>\n",
       "    </tr>\n",
       "  </tbody>\n",
       "</table>\n",
       "</div>"
      ],
      "text/plain": [
       "priceCatgry   1   2   3\n",
       "prodType               \n",
       "LG           19  43  12\n",
       "LP           34  92  23"
      ]
     },
     "execution_count": 35,
     "metadata": {},
     "output_type": "execute_result"
    }
   ],
   "source": [
    "lipstick_crosstab"
   ]
  },
  {
   "cell_type": "markdown",
   "id": "c1d1866f",
   "metadata": {},
   "source": [
    "## Running the Independent Chi-Square"
   ]
  },
  {
   "cell_type": "code",
   "execution_count": 36,
   "id": "b3d725c2",
   "metadata": {},
   "outputs": [
    {
     "data": {
      "text/plain": [
       "(0.2969891724608704,\n",
       " 0.8620046738525345,\n",
       " 2,\n",
       " array([[17.58744395, 44.79820628, 11.61434978],\n",
       "        [35.41255605, 90.20179372, 23.38565022]]))"
      ]
     },
     "execution_count": 36,
     "metadata": {},
     "output_type": "execute_result"
    }
   ],
   "source": [
    "stats.chi2_contingency(lipstick_crosstab)"
   ]
  },
  {
   "cell_type": "markdown",
   "id": "8e55ba71",
   "metadata": {},
   "source": [
    "# Independent Chi-Square Activity *******"
   ]
  },
  {
   "cell_type": "markdown",
   "id": "40df6c4b",
   "metadata": {},
   "source": [
    "determine if the shade of lipstick and the price category are related. To do this, you will need to:"
   ]
  },
  {
   "cell_type": "markdown",
   "id": "96c0abe9",
   "metadata": {},
   "source": [
    "## Create a Contingency Table"
   ]
  },
  {
   "cell_type": "code",
   "execution_count": 37,
   "id": "3a8a9a9e",
   "metadata": {},
   "outputs": [],
   "source": [
    "lipstick2_crosstab = pd.crosstab(lead_lipstick['shade'], lead_lipstick['priceCatgry'])"
   ]
  },
  {
   "cell_type": "code",
   "execution_count": 38,
   "id": "26cf2bbe",
   "metadata": {},
   "outputs": [
    {
     "data": {
      "text/html": [
       "<div>\n",
       "<style scoped>\n",
       "    .dataframe tbody tr th:only-of-type {\n",
       "        vertical-align: middle;\n",
       "    }\n",
       "\n",
       "    .dataframe tbody tr th {\n",
       "        vertical-align: top;\n",
       "    }\n",
       "\n",
       "    .dataframe thead th {\n",
       "        text-align: right;\n",
       "    }\n",
       "</style>\n",
       "<table border=\"1\" class=\"dataframe\">\n",
       "  <thead>\n",
       "    <tr style=\"text-align: right;\">\n",
       "      <th>priceCatgry</th>\n",
       "      <th>1</th>\n",
       "      <th>2</th>\n",
       "      <th>3</th>\n",
       "    </tr>\n",
       "    <tr>\n",
       "      <th>shade</th>\n",
       "      <th></th>\n",
       "      <th></th>\n",
       "      <th></th>\n",
       "    </tr>\n",
       "  </thead>\n",
       "  <tbody>\n",
       "    <tr>\n",
       "      <th>Brown</th>\n",
       "      <td>20</td>\n",
       "      <td>30</td>\n",
       "      <td>10</td>\n",
       "    </tr>\n",
       "    <tr>\n",
       "      <th>Pink</th>\n",
       "      <td>20</td>\n",
       "      <td>49</td>\n",
       "      <td>12</td>\n",
       "    </tr>\n",
       "    <tr>\n",
       "      <th>Purple</th>\n",
       "      <td>8</td>\n",
       "      <td>23</td>\n",
       "      <td>6</td>\n",
       "    </tr>\n",
       "    <tr>\n",
       "      <th>Red</th>\n",
       "      <td>5</td>\n",
       "      <td>33</td>\n",
       "      <td>7</td>\n",
       "    </tr>\n",
       "  </tbody>\n",
       "</table>\n",
       "</div>"
      ],
      "text/plain": [
       "priceCatgry   1   2   3\n",
       "shade                  \n",
       "Brown        20  30  10\n",
       "Pink         20  49  12\n",
       "Purple        8  23   6\n",
       "Red           5  33   7"
      ]
     },
     "execution_count": 38,
     "metadata": {},
     "output_type": "execute_result"
    }
   ],
   "source": [
    "lipstick2_crosstab"
   ]
  },
  {
   "cell_type": "markdown",
   "id": "aaaaeb1b",
   "metadata": {},
   "source": [
    "## Running the Independent Chi-Square"
   ]
  },
  {
   "cell_type": "code",
   "execution_count": 39,
   "id": "ea2f7000",
   "metadata": {},
   "outputs": [
    {
     "data": {
      "text/plain": [
       "(7.860569553614045,\n",
       " 0.2484973879479863,\n",
       " 6,\n",
       " array([[14.26008969, 36.32286996,  9.41704036],\n",
       "        [19.25112108, 49.03587444, 12.71300448],\n",
       "        [ 8.79372197, 22.39910314,  5.80717489],\n",
       "        [10.69506726, 27.24215247,  7.06278027]]))"
      ]
     },
     "execution_count": 39,
     "metadata": {},
     "output_type": "execute_result"
    }
   ],
   "source": [
    "stats.chi2_contingency(lipstick2_crosstab)"
   ]
  },
  {
   "cell_type": "markdown",
   "id": "0392db89",
   "metadata": {},
   "source": [
    "Looks like theres not much of a difference between the shade of the lipstick and the price "
   ]
  },
  {
   "cell_type": "code",
   "execution_count": null,
   "id": "50d79d96",
   "metadata": {},
   "outputs": [],
   "source": []
  }
 ],
 "metadata": {
  "kernelspec": {
   "display_name": "Python 3 (ipykernel)",
   "language": "python",
   "name": "python3"
  },
  "language_info": {
   "codemirror_mode": {
    "name": "ipython",
    "version": 3
   },
   "file_extension": ".py",
   "mimetype": "text/x-python",
   "name": "python",
   "nbconvert_exporter": "python",
   "pygments_lexer": "ipython3",
   "version": "3.9.13"
  }
 },
 "nbformat": 4,
 "nbformat_minor": 5
}
