{
 "cells": [
  {
   "cell_type": "markdown",
   "id": "fb6981e4",
   "metadata": {},
   "source": [
    "# Intermediate Statistics Final Project"
   ]
  },
  {
   "cell_type": "markdown",
   "id": "72eda010",
   "metadata": {},
   "source": [
    "## Import Packages "
   ]
  },
  {
   "cell_type": "code",
   "execution_count": 1,
   "id": "c26cd996",
   "metadata": {},
   "outputs": [],
   "source": [
    "import numpy as np\n",
    "import pandas as pd\n",
    "import seaborn as sns\n",
    "import scipy\n",
    "from scipy import stats \n",
    "from statsmodels.stats.multicomp import pairwise_tukeyhsd\n",
    "from statsmodels.stats.multicomp import MultiComparison\n",
    "from statsmodels.stats.proportion import proportions_ztest\n",
    "from statsmodels.stats.proportion import proportions_chisquare"
   ]
  },
  {
   "cell_type": "markdown",
   "id": "e389e659",
   "metadata": {},
   "source": [
    "# Scenario 1"
   ]
  },
  {
   "cell_type": "code",
   "execution_count": 2,
   "id": "b8a9c29e",
   "metadata": {},
   "outputs": [
    {
     "name": "stdout",
     "output_type": "stream",
     "text": [
      "2.9229268377264077 0.0034675798365736213\n"
     ]
    }
   ],
   "source": [
    "count = 28\n",
    "nobs = 94\n",
    "value = .16\n",
    "stat, pval = proportions_ztest(count, nobs, value)\n",
    "print(stat,pval)"
   ]
  },
  {
   "cell_type": "markdown",
   "id": "23133472",
   "metadata": {},
   "source": [
    "#The test is significant as the pvalue is smaller than 0.05 meaning theres a significant difference in the amount of people that are not as disabled and those that are. "
   ]
  },
  {
   "cell_type": "markdown",
   "id": "dfbd0370",
   "metadata": {},
   "source": [
    "# Scenario 2 "
   ]
  },
  {
   "cell_type": "code",
   "execution_count": 3,
   "id": "422262f4",
   "metadata": {},
   "outputs": [
    {
     "data": {
      "text/html": [
       "<div>\n",
       "<style scoped>\n",
       "    .dataframe tbody tr th:only-of-type {\n",
       "        vertical-align: middle;\n",
       "    }\n",
       "\n",
       "    .dataframe tbody tr th {\n",
       "        vertical-align: top;\n",
       "    }\n",
       "\n",
       "    .dataframe thead th {\n",
       "        text-align: right;\n",
       "    }\n",
       "</style>\n",
       "<table border=\"1\" class=\"dataframe\">\n",
       "  <thead>\n",
       "    <tr style=\"text-align: right;\">\n",
       "      <th></th>\n",
       "      <th>Clinic</th>\n",
       "      <th>Antiseptic Type</th>\n",
       "      <th>Number of applications</th>\n",
       "    </tr>\n",
       "  </thead>\n",
       "  <tbody>\n",
       "    <tr>\n",
       "      <th>0</th>\n",
       "      <td>1</td>\n",
       "      <td>A</td>\n",
       "      <td>22</td>\n",
       "    </tr>\n",
       "    <tr>\n",
       "      <th>1</th>\n",
       "      <td>1</td>\n",
       "      <td>B</td>\n",
       "      <td>71</td>\n",
       "    </tr>\n",
       "    <tr>\n",
       "      <th>2</th>\n",
       "      <td>1</td>\n",
       "      <td>C</td>\n",
       "      <td>8</td>\n",
       "    </tr>\n",
       "    <tr>\n",
       "      <th>3</th>\n",
       "      <td>1</td>\n",
       "      <td>D</td>\n",
       "      <td>49</td>\n",
       "    </tr>\n",
       "    <tr>\n",
       "      <th>4</th>\n",
       "      <td>2</td>\n",
       "      <td>A</td>\n",
       "      <td>38</td>\n",
       "    </tr>\n",
       "  </tbody>\n",
       "</table>\n",
       "</div>"
      ],
      "text/plain": [
       "   Clinic Antiseptic Type   Number of applications\n",
       "0       1                A                      22\n",
       "1       1                B                      71\n",
       "2       1                C                       8\n",
       "3       1                D                      49\n",
       "4       2                A                      38"
      ]
     },
     "execution_count": 3,
     "metadata": {},
     "output_type": "execute_result"
    }
   ],
   "source": [
    "antiseptics = pd.read_csv(\"/Users/christinasimbenga/Desktop/antiseptics.csv\")\n",
    "antiseptics.head()"
   ]
  },
  {
   "cell_type": "markdown",
   "id": "4098feb7",
   "metadata": {},
   "source": [
    "## Data wrangling "
   ]
  },
  {
   "cell_type": "code",
   "execution_count": 4,
   "id": "12bbe8fc",
   "metadata": {},
   "outputs": [],
   "source": [
    "antiseptics.rename(columns={'Antiseptic Type ': \"AS\", \"Number of applications\": \"Count\"}, inplace=True)\n"
   ]
  },
  {
   "cell_type": "code",
   "execution_count": 5,
   "id": "291a87a9",
   "metadata": {},
   "outputs": [
    {
     "data": {
      "text/html": [
       "<div>\n",
       "<style scoped>\n",
       "    .dataframe tbody tr th:only-of-type {\n",
       "        vertical-align: middle;\n",
       "    }\n",
       "\n",
       "    .dataframe tbody tr th {\n",
       "        vertical-align: top;\n",
       "    }\n",
       "\n",
       "    .dataframe thead th {\n",
       "        text-align: right;\n",
       "    }\n",
       "</style>\n",
       "<table border=\"1\" class=\"dataframe\">\n",
       "  <thead>\n",
       "    <tr style=\"text-align: right;\">\n",
       "      <th></th>\n",
       "      <th>Clinic</th>\n",
       "      <th>AS</th>\n",
       "      <th>Count</th>\n",
       "    </tr>\n",
       "  </thead>\n",
       "  <tbody>\n",
       "    <tr>\n",
       "      <th>0</th>\n",
       "      <td>1</td>\n",
       "      <td>A</td>\n",
       "      <td>22</td>\n",
       "    </tr>\n",
       "    <tr>\n",
       "      <th>1</th>\n",
       "      <td>1</td>\n",
       "      <td>B</td>\n",
       "      <td>71</td>\n",
       "    </tr>\n",
       "    <tr>\n",
       "      <th>2</th>\n",
       "      <td>1</td>\n",
       "      <td>C</td>\n",
       "      <td>8</td>\n",
       "    </tr>\n",
       "    <tr>\n",
       "      <th>3</th>\n",
       "      <td>1</td>\n",
       "      <td>D</td>\n",
       "      <td>49</td>\n",
       "    </tr>\n",
       "    <tr>\n",
       "      <th>4</th>\n",
       "      <td>2</td>\n",
       "      <td>A</td>\n",
       "      <td>38</td>\n",
       "    </tr>\n",
       "  </tbody>\n",
       "</table>\n",
       "</div>"
      ],
      "text/plain": [
       "   Clinic AS  Count\n",
       "0       1  A     22\n",
       "1       1  B     71\n",
       "2       1  C      8\n",
       "3       1  D     49\n",
       "4       2  A     38"
      ]
     },
     "execution_count": 5,
     "metadata": {},
     "output_type": "execute_result"
    }
   ],
   "source": [
    "antiseptics.head()"
   ]
  },
  {
   "cell_type": "code",
   "execution_count": 6,
   "id": "df8c61ce",
   "metadata": {},
   "outputs": [
    {
     "data": {
      "text/html": [
       "<div>\n",
       "<style scoped>\n",
       "    .dataframe tbody tr th:only-of-type {\n",
       "        vertical-align: middle;\n",
       "    }\n",
       "\n",
       "    .dataframe tbody tr th {\n",
       "        vertical-align: top;\n",
       "    }\n",
       "\n",
       "    .dataframe thead th {\n",
       "        text-align: right;\n",
       "    }\n",
       "</style>\n",
       "<table border=\"1\" class=\"dataframe\">\n",
       "  <thead>\n",
       "    <tr style=\"text-align: right;\">\n",
       "      <th>Clinic</th>\n",
       "      <th>1</th>\n",
       "      <th>2</th>\n",
       "      <th>3</th>\n",
       "    </tr>\n",
       "    <tr>\n",
       "      <th>AS</th>\n",
       "      <th></th>\n",
       "      <th></th>\n",
       "      <th></th>\n",
       "    </tr>\n",
       "  </thead>\n",
       "  <tbody>\n",
       "    <tr>\n",
       "      <th>A</th>\n",
       "      <td>22</td>\n",
       "      <td>38</td>\n",
       "      <td>84</td>\n",
       "    </tr>\n",
       "    <tr>\n",
       "      <th>B</th>\n",
       "      <td>71</td>\n",
       "      <td>112</td>\n",
       "      <td>298</td>\n",
       "    </tr>\n",
       "    <tr>\n",
       "      <th>C</th>\n",
       "      <td>8</td>\n",
       "      <td>14</td>\n",
       "      <td>37</td>\n",
       "    </tr>\n",
       "    <tr>\n",
       "      <th>D</th>\n",
       "      <td>49</td>\n",
       "      <td>69</td>\n",
       "      <td>182</td>\n",
       "    </tr>\n",
       "  </tbody>\n",
       "</table>\n",
       "</div>"
      ],
      "text/plain": [
       "Clinic   1    2    3\n",
       "AS                  \n",
       "A       22   38   84\n",
       "B       71  112  298\n",
       "C        8   14   37\n",
       "D       49   69  182"
      ]
     },
     "execution_count": 6,
     "metadata": {},
     "output_type": "execute_result"
    }
   ],
   "source": [
    "antiseptics_pivot = pd.pivot_table(antiseptics,index='AS',columns='Clinic',values=\"Count\")\n",
    "antiseptics_pivot"
   ]
  },
  {
   "cell_type": "code",
   "execution_count": 7,
   "id": "59799f5f",
   "metadata": {},
   "outputs": [
    {
     "data": {
      "text/plain": [
       "(1.225920250023835,\n",
       " 0.9755850789571424,\n",
       " 6,\n",
       " array([[ 21.95121951,  34.09756098,  87.95121951],\n",
       "        [ 73.32317073, 113.8953252 , 293.78150407],\n",
       "        [  8.99390244,  13.97052846,  36.03556911],\n",
       "        [ 45.73170732,  71.03658537, 183.23170732]]))"
      ]
     },
     "execution_count": 7,
     "metadata": {},
     "output_type": "execute_result"
    }
   ],
   "source": [
    "stats.chi2_contingency(antiseptics_pivot)"
   ]
  },
  {
   "cell_type": "markdown",
   "id": "5dd241cb",
   "metadata": {},
   "source": [
    "#accept the null hypothesis as there is no difference with the location and the amount/type of antiseptics used. We also meet the assumptions for Chi-square as well. "
   ]
  },
  {
   "cell_type": "markdown",
   "id": "5cd25383",
   "metadata": {},
   "source": [
    "# Scenario 3 "
   ]
  },
  {
   "cell_type": "code",
   "execution_count": 8,
   "id": "259eb725",
   "metadata": {},
   "outputs": [],
   "source": [
    "savings = pd.read_csv(\"/Users/christinasimbenga/Desktop/savings.csv\")"
   ]
  },
  {
   "cell_type": "code",
   "execution_count": 9,
   "id": "fb7d7610",
   "metadata": {},
   "outputs": [
    {
     "data": {
      "text/html": [
       "<div>\n",
       "<style scoped>\n",
       "    .dataframe tbody tr th:only-of-type {\n",
       "        vertical-align: middle;\n",
       "    }\n",
       "\n",
       "    .dataframe tbody tr th {\n",
       "        vertical-align: top;\n",
       "    }\n",
       "\n",
       "    .dataframe thead th {\n",
       "        text-align: right;\n",
       "    }\n",
       "</style>\n",
       "<table border=\"1\" class=\"dataframe\">\n",
       "  <thead>\n",
       "    <tr style=\"text-align: right;\">\n",
       "      <th></th>\n",
       "      <th>Group A</th>\n",
       "      <th>Group B</th>\n",
       "      <th>Group C</th>\n",
       "      <th>Group D</th>\n",
       "    </tr>\n",
       "  </thead>\n",
       "  <tbody>\n",
       "    <tr>\n",
       "      <th>0</th>\n",
       "      <td>21383.06</td>\n",
       "      <td>17077.54</td>\n",
       "      <td>13636.38</td>\n",
       "      <td>14582.73</td>\n",
       "    </tr>\n",
       "    <tr>\n",
       "      <th>1</th>\n",
       "      <td>19729.92</td>\n",
       "      <td>17258.06</td>\n",
       "      <td>5156.36</td>\n",
       "      <td>12880.28</td>\n",
       "    </tr>\n",
       "    <tr>\n",
       "      <th>2</th>\n",
       "      <td>24071.53</td>\n",
       "      <td>20652.91</td>\n",
       "      <td>4446.92</td>\n",
       "      <td>16412.72</td>\n",
       "    </tr>\n",
       "    <tr>\n",
       "      <th>3</th>\n",
       "      <td>19056.28</td>\n",
       "      <td>20845.06</td>\n",
       "      <td>4892.59</td>\n",
       "      <td>14020.00</td>\n",
       "    </tr>\n",
       "    <tr>\n",
       "      <th>4</th>\n",
       "      <td>19147.18</td>\n",
       "      <td>22296.64</td>\n",
       "      <td>14099.38</td>\n",
       "      <td>16467.70</td>\n",
       "    </tr>\n",
       "  </tbody>\n",
       "</table>\n",
       "</div>"
      ],
      "text/plain": [
       "    Group A   Group B   Group C   Group D\n",
       "0  21383.06  17077.54  13636.38  14582.73\n",
       "1  19729.92  17258.06   5156.36  12880.28\n",
       "2  24071.53  20652.91   4446.92  16412.72\n",
       "3  19056.28  20845.06   4892.59  14020.00\n",
       "4  19147.18  22296.64  14099.38  16467.70"
      ]
     },
     "execution_count": 9,
     "metadata": {},
     "output_type": "execute_result"
    }
   ],
   "source": [
    "savings.head()"
   ]
  },
  {
   "cell_type": "markdown",
   "id": "a37621d9",
   "metadata": {},
   "source": [
    "## Data Wrangling "
   ]
  },
  {
   "cell_type": "code",
   "execution_count": 10,
   "id": "beeda509",
   "metadata": {},
   "outputs": [
    {
     "data": {
      "text/html": [
       "<div>\n",
       "<style scoped>\n",
       "    .dataframe tbody tr th:only-of-type {\n",
       "        vertical-align: middle;\n",
       "    }\n",
       "\n",
       "    .dataframe tbody tr th {\n",
       "        vertical-align: top;\n",
       "    }\n",
       "\n",
       "    .dataframe thead th {\n",
       "        text-align: right;\n",
       "    }\n",
       "</style>\n",
       "<table border=\"1\" class=\"dataframe\">\n",
       "  <thead>\n",
       "    <tr style=\"text-align: right;\">\n",
       "      <th></th>\n",
       "      <th>Group</th>\n",
       "      <th>$</th>\n",
       "    </tr>\n",
       "  </thead>\n",
       "  <tbody>\n",
       "    <tr>\n",
       "      <th>0</th>\n",
       "      <td>Group A</td>\n",
       "      <td>21383.06</td>\n",
       "    </tr>\n",
       "    <tr>\n",
       "      <th>1</th>\n",
       "      <td>Group A</td>\n",
       "      <td>19729.92</td>\n",
       "    </tr>\n",
       "    <tr>\n",
       "      <th>2</th>\n",
       "      <td>Group A</td>\n",
       "      <td>24071.53</td>\n",
       "    </tr>\n",
       "    <tr>\n",
       "      <th>3</th>\n",
       "      <td>Group A</td>\n",
       "      <td>19056.28</td>\n",
       "    </tr>\n",
       "    <tr>\n",
       "      <th>4</th>\n",
       "      <td>Group A</td>\n",
       "      <td>19147.18</td>\n",
       "    </tr>\n",
       "  </tbody>\n",
       "</table>\n",
       "</div>"
      ],
      "text/plain": [
       "     Group         $\n",
       "0  Group A  21383.06\n",
       "1  Group A  19729.92\n",
       "2  Group A  24071.53\n",
       "3  Group A  19056.28\n",
       "4  Group A  19147.18"
      ]
     },
     "execution_count": 10,
     "metadata": {},
     "output_type": "execute_result"
    }
   ],
   "source": [
    "savings_expanded=pd.melt(savings,var_name='Group', value_name='$')\n",
    "savings_expanded.head()"
   ]
  },
  {
   "cell_type": "code",
   "execution_count": 11,
   "id": "e7d78d24",
   "metadata": {},
   "outputs": [
    {
     "data": {
      "text/html": [
       "<div>\n",
       "<style scoped>\n",
       "    .dataframe tbody tr th:only-of-type {\n",
       "        vertical-align: middle;\n",
       "    }\n",
       "\n",
       "    .dataframe tbody tr th {\n",
       "        vertical-align: top;\n",
       "    }\n",
       "\n",
       "    .dataframe thead th {\n",
       "        text-align: right;\n",
       "    }\n",
       "</style>\n",
       "<table border=\"1\" class=\"dataframe\">\n",
       "  <thead>\n",
       "    <tr style=\"text-align: right;\">\n",
       "      <th></th>\n",
       "      <th>Group</th>\n",
       "      <th>$</th>\n",
       "    </tr>\n",
       "  </thead>\n",
       "  <tbody>\n",
       "    <tr>\n",
       "      <th>0</th>\n",
       "      <td>0</td>\n",
       "      <td>21383.06</td>\n",
       "    </tr>\n",
       "    <tr>\n",
       "      <th>1</th>\n",
       "      <td>0</td>\n",
       "      <td>19729.92</td>\n",
       "    </tr>\n",
       "    <tr>\n",
       "      <th>2</th>\n",
       "      <td>0</td>\n",
       "      <td>24071.53</td>\n",
       "    </tr>\n",
       "    <tr>\n",
       "      <th>3</th>\n",
       "      <td>0</td>\n",
       "      <td>19056.28</td>\n",
       "    </tr>\n",
       "    <tr>\n",
       "      <th>4</th>\n",
       "      <td>0</td>\n",
       "      <td>19147.18</td>\n",
       "    </tr>\n",
       "  </tbody>\n",
       "</table>\n",
       "</div>"
      ],
      "text/plain": [
       "   Group         $\n",
       "0      0  21383.06\n",
       "1      0  19729.92\n",
       "2      0  24071.53\n",
       "3      0  19056.28\n",
       "4      0  19147.18"
      ]
     },
     "execution_count": 11,
     "metadata": {},
     "output_type": "execute_result"
    }
   ],
   "source": [
    "savings_expanded = savings_expanded.replace(savings.columns, [0,1,2,3])\n",
    "savings_expanded.head()"
   ]
  },
  {
   "cell_type": "code",
   "execution_count": 13,
   "id": "cb79c82d",
   "metadata": {},
   "outputs": [
    {
     "name": "stderr",
     "output_type": "stream",
     "text": [
      "/usr/local/lib/python3.9/site-packages/seaborn/distributions.py:2619: FutureWarning: `distplot` is a deprecated function and will be removed in a future version. Please adapt your code to use either `displot` (a figure-level function with similar flexibility) or `histplot` (an axes-level function for histograms).\n",
      "  warnings.warn(msg, FutureWarning)\n"
     ]
    },
    {
     "data": {
      "text/plain": [
       "<AxesSubplot:xlabel='$', ylabel='Density'>"
      ]
     },
     "execution_count": 13,
     "metadata": {},
     "output_type": "execute_result"
    },
    {
     "data": {
      "image/png": "[encoded data removed]",
      "text/plain": [
       "<Figure size 432x288 with 1 Axes>"
      ]
     },
     "metadata": {
      "needs_background": "light"
     },
     "output_type": "display_data"
    }
   ],
   "source": [
    "sns.distplot(savings_expanded[\"$\"])"
   ]
  },
  {
   "cell_type": "code",
   "execution_count": 15,
   "id": "4143db9d",
   "metadata": {},
   "outputs": [],
   "source": [
    "savings_expanded['$SQRT'] = np.sqrt(savings_expanded['$'])"
   ]
  },
  {
   "cell_type": "code",
   "execution_count": 16,
   "id": "20cd0b4a",
   "metadata": {},
   "outputs": [
    {
     "name": "stderr",
     "output_type": "stream",
     "text": [
      "/usr/local/lib/python3.9/site-packages/seaborn/distributions.py:2619: FutureWarning: `distplot` is a deprecated function and will be removed in a future version. Please adapt your code to use either `displot` (a figure-level function with similar flexibility) or `histplot` (an axes-level function for histograms).\n",
      "  warnings.warn(msg, FutureWarning)\n"
     ]
    },
    {
     "data": {
      "text/plain": [
       "<AxesSubplot:xlabel='$SQRT', ylabel='Density'>"
      ]
     },
     "execution_count": 16,
     "metadata": {},
     "output_type": "execute_result"
    },
    {
     "data": {
      "image/png": "[encoded data removed]",
      "text/plain": [
       "<Figure size 432x288 with 1 Axes>"
      ]
     },
     "metadata": {
      "needs_background": "light"
     },
     "output_type": "display_data"
    }
   ],
   "source": [
    "sns.distplot(savings_expanded['$SQRT'])"
   ]
  },
  {
   "cell_type": "markdown",
   "id": "6538f26d",
   "metadata": {},
   "source": [
    "#Will just use the first as it is the most normal I just wanted to test out the square and see what would happen "
   ]
  },
  {
   "cell_type": "markdown",
   "id": "a00288b8",
   "metadata": {},
   "source": [
    "## assumption of homogenity "
   ]
  },
  {
   "cell_type": "code",
   "execution_count": 17,
   "id": "d7e12bec",
   "metadata": {},
   "outputs": [
    {
     "data": {
      "text/plain": [
       "BartlettResult(statistic=3639.1753663764925, pvalue=0.0)"
      ]
     },
     "execution_count": 17,
     "metadata": {},
     "output_type": "execute_result"
    }
   ],
   "source": [
    "scipy.stats.bartlett(savings_expanded['$'], savings_expanded['Group'])"
   ]
  },
  {
   "cell_type": "markdown",
   "id": "77b79bb8",
   "metadata": {},
   "source": [
    "#We do not meet this assumptions. We would stop here or proceed with caution "
   ]
  },
  {
   "cell_type": "markdown",
   "id": "0ebd589c",
   "metadata": {},
   "source": [
    "## Analysis"
   ]
  },
  {
   "cell_type": "code",
   "execution_count": 18,
   "id": "d2e8e3b1",
   "metadata": {},
   "outputs": [],
   "source": [
    "savings_expanded.dropna(inplace=True)"
   ]
  },
  {
   "cell_type": "code",
   "execution_count": 19,
   "id": "e2bb21f4",
   "metadata": {},
   "outputs": [
    {
     "data": {
      "text/plain": [
       "F_onewayResult(statistic=203.25514198903812, pvalue=1.9933595578005075e-61)"
      ]
     },
     "execution_count": 19,
     "metadata": {},
     "output_type": "execute_result"
    }
   ],
   "source": [
    "stats.f_oneway(savings_expanded['$'][savings_expanded['Group']==0],\n",
    "              savings_expanded['$'][savings_expanded['Group']==1],\n",
    "              savings_expanded['$'][savings_expanded['Group']==2],\n",
    "              savings_expanded['$'][savings_expanded['Group']==3])"
   ]
  },
  {
   "cell_type": "markdown",
   "id": "28a931b9",
   "metadata": {},
   "source": [
    "#Accepting the null hypothesis meaning there is no significant difference in the aounts and the amount of savings in the accounts. No difference in the saving practices of different demographic groups. "
   ]
  },
  {
   "cell_type": "markdown",
   "id": "2aae413a",
   "metadata": {},
   "source": [
    "# Scenario 4 "
   ]
  },
  {
   "cell_type": "code",
   "execution_count": 29,
   "id": "581ac125",
   "metadata": {},
   "outputs": [
    {
     "name": "stdout",
     "output_type": "stream",
     "text": [
      "nan nan\n"
     ]
    }
   ],
   "source": [
    "stat, pval = proportions_ztest([129,374],[171, 74])\n",
    "print(stat,pval)"
   ]
  },
  {
   "cell_type": "code",
   "execution_count": 30,
   "id": "9aa0fba4",
   "metadata": {},
   "outputs": [
    {
     "name": "stdout",
     "output_type": "stream",
     "text": [
      "nan nan\n"
     ]
    }
   ],
   "source": [
    "count = np.array([129, 374])\n",
    "nobs = np.array([74, 171])\n",
    "stat, pval = proportions_ztest(count, nobs)\n",
    "print(stat,pval)"
   ]
  },
  {
   "cell_type": "markdown",
   "id": "97bbf0e9",
   "metadata": {},
   "source": [
    "#I am not sure why this is not giving me any values.I have played around with it and still no values."
   ]
  }
 ],
 "metadata": {
  "kernelspec": {
   "display_name": "Python 3 (ipykernel)",
   "language": "python",
   "name": "python3"
  },
  "language_info": {
   "codemirror_mode": {
    "name": "ipython",
    "version": 3
   },
   "file_extension": ".py",
   "mimetype": "text/x-python",
   "name": "python",
   "nbconvert_exporter": "python",
   "pygments_lexer": "ipython3",
   "version": "3.9.13"
  }
 },
 "nbformat": 4,
 "nbformat_minor": 5
}
